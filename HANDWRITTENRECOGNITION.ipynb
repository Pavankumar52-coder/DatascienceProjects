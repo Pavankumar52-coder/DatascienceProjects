{
  "nbformat": 4,
  "nbformat_minor": 0,
  "metadata": {
    "colab": {
      "provenance": [],
      "authorship_tag": "ABX9TyO6L/jYemZQlqq5+DZa8LMu",
      "include_colab_link": true
    },
    "kernelspec": {
      "name": "python3",
      "display_name": "Python 3"
    },
    "language_info": {
      "name": "python"
    }
  },
  "cells": [
    {
      "cell_type": "markdown",
      "metadata": {
        "id": "view-in-github",
        "colab_type": "text"
      },
      "source": [
        "<a href=\"https://colab.research.google.com/github/Pavankumar52-coder/DatascienceProjects/blob/main/HANDWRITTENRECOGNITION.ipynb\" target=\"_parent\"><img src=\"https://colab.research.google.com/assets/colab-badge.svg\" alt=\"Open In Colab\"/></a>"
      ]
    },
    {
      "cell_type": "code",
      "execution_count": 52,
      "metadata": {
        "id": "Gh6k_3ilmAAW"
      },
      "outputs": [],
      "source": [
        "import pandas as pd\n",
        "import numpy as pavan\n",
        "from sklearn.datasets import load_digits"
      ]
    },
    {
      "cell_type": "code",
      "source": [
        "dataset = load_digits()"
      ],
      "metadata": {
        "id": "BIUzs0JxnijN"
      },
      "execution_count": 53,
      "outputs": []
    },
    {
      "cell_type": "code",
      "source": [
        "print(dataset.data)\n",
        "print(dataset.target)"
      ],
      "metadata": {
        "colab": {
          "base_uri": "https://localhost:8080/"
        },
        "id": "lbrvW4Vmnime",
        "outputId": "253304b6-24ee-454a-89a4-b6a06893598a"
      },
      "execution_count": 54,
      "outputs": [
        {
          "output_type": "stream",
          "name": "stdout",
          "text": [
            "[[ 0.  0.  5. ...  0.  0.  0.]\n",
            " [ 0.  0.  0. ... 10.  0.  0.]\n",
            " [ 0.  0.  0. ... 16.  9.  0.]\n",
            " ...\n",
            " [ 0.  0.  1. ...  6.  0.  0.]\n",
            " [ 0.  0.  2. ... 12.  0.  0.]\n",
            " [ 0.  0. 10. ... 12.  1.  0.]]\n",
            "[0 1 2 ... 8 9 8]\n"
          ]
        }
      ]
    },
    {
      "cell_type": "code",
      "source": [
        "print(dataset.data.shape)"
      ],
      "metadata": {
        "colab": {
          "base_uri": "https://localhost:8080/"
        },
        "id": "kmPOFmsbniof",
        "outputId": "e0aae0c5-c001-41d1-a3fa-2e621be1cb2e"
      },
      "execution_count": 5,
      "outputs": [
        {
          "output_type": "stream",
          "name": "stdout",
          "text": [
            "(1797, 64)\n"
          ]
        }
      ]
    },
    {
      "cell_type": "code",
      "source": [
        "print(dataset.images.shape)"
      ],
      "metadata": {
        "colab": {
          "base_uri": "https://localhost:8080/"
        },
        "id": "3gnR7cNEniqy",
        "outputId": "53772562-b65a-494c-a90f-4e088d99eebd"
      },
      "execution_count": 55,
      "outputs": [
        {
          "output_type": "stream",
          "name": "stdout",
          "text": [
            "(1797, 8, 8)\n"
          ]
        }
      ]
    },
    {
      "cell_type": "code",
      "source": [
        "data_image_length = len(dataset.images)\n",
        "print(data_image_length)"
      ],
      "metadata": {
        "colab": {
          "base_uri": "https://localhost:8080/"
        },
        "id": "ktkEb57QnitZ",
        "outputId": "a543e82f-d75a-4c56-ec80-f5c64f8fce04"
      },
      "execution_count": 56,
      "outputs": [
        {
          "output_type": "stream",
          "name": "stdout",
          "text": [
            "1797\n"
          ]
        }
      ]
    },
    {
      "cell_type": "code",
      "source": [
        "n=4"
      ],
      "metadata": {
        "id": "Pjkt1C9oouIN"
      },
      "execution_count": 57,
      "outputs": []
    },
    {
      "cell_type": "code",
      "source": [
        "import matplotlib.pyplot as plt\n",
        "plt.gray()\n",
        "plt.matshow(dataset.images[n])\n",
        "plt.show()"
      ],
      "metadata": {
        "colab": {
          "base_uri": "https://localhost:8080/",
          "height": 454
        },
        "id": "0ywn6r4onivx",
        "outputId": "6cfa5fa5-f43e-41e7-a474-3747ed3f6fd6"
      },
      "execution_count": 58,
      "outputs": [
        {
          "output_type": "display_data",
          "data": {
            "text/plain": [
              "<Figure size 640x480 with 0 Axes>"
            ]
          },
          "metadata": {}
        },
        {
          "output_type": "display_data",
          "data": {
            "text/plain": [
              "<Figure size 480x480 with 1 Axes>"
            ],
            "image/png": "[encoded data removed]"
          },
          "metadata": {}
        }
      ]
    },
    {
      "cell_type": "code",
      "source": [
        "dataset.images[n]"
      ],
      "metadata": {
        "colab": {
          "base_uri": "https://localhost:8080/"
        },
        "id": "WL9oNlV1nizB",
        "outputId": "fd7475c8-91b6-490a-84f1-06ade76bca82"
      },
      "execution_count": 59,
      "outputs": [
        {
          "output_type": "execute_result",
          "data": {
            "text/plain": [
              "array([[ 0.,  0.,  0.,  1., 11.,  0.,  0.,  0.],\n",
              "       [ 0.,  0.,  0.,  7.,  8.,  0.,  0.,  0.],\n",
              "       [ 0.,  0.,  1., 13.,  6.,  2.,  2.,  0.],\n",
              "       [ 0.,  0.,  7., 15.,  0.,  9.,  8.,  0.],\n",
              "       [ 0.,  5., 16., 10.,  0., 16.,  6.,  0.],\n",
              "       [ 0.,  4., 15., 16., 13., 16.,  1.,  0.],\n",
              "       [ 0.,  0.,  0.,  3., 15., 10.,  0.,  0.],\n",
              "       [ 0.,  0.,  0.,  2., 16.,  4.,  0.,  0.]])"
            ]
          },
          "metadata": {},
          "execution_count": 59
        }
      ]
    },
    {
      "cell_type": "code",
      "source": [
        "X = dataset.images.reshape((data_image_length, -1))"
      ],
      "metadata": {
        "id": "rP0Hk2a6pIIZ"
      },
      "execution_count": 23,
      "outputs": []
    },
    {
      "cell_type": "code",
      "source": [
        "X"
      ],
      "metadata": {
        "colab": {
          "base_uri": "https://localhost:8080/"
        },
        "id": "9X1wlyhVpIFC",
        "outputId": "a2e78793-50b3-4633-fc58-f4108fa86386"
      },
      "execution_count": 60,
      "outputs": [
        {
          "output_type": "execute_result",
          "data": {
            "text/plain": [
              "array([[ 0.,  0.,  5., ...,  0.,  0.,  0.],\n",
              "       [ 0.,  0.,  0., ..., 10.,  0.,  0.],\n",
              "       [ 0.,  0.,  0., ..., 16.,  9.,  0.],\n",
              "       ...,\n",
              "       [ 0.,  0.,  1., ...,  6.,  0.,  0.],\n",
              "       [ 0.,  0.,  2., ..., 12.,  0.,  0.],\n",
              "       [ 0.,  0., 10., ..., 12.,  1.,  0.]])"
            ]
          },
          "metadata": {},
          "execution_count": 60
        }
      ]
    },
    {
      "cell_type": "code",
      "source": [
        "y = dataset.target"
      ],
      "metadata": {
        "id": "yJE2A2svpICJ"
      },
      "execution_count": 61,
      "outputs": []
    },
    {
      "cell_type": "code",
      "source": [
        "y"
      ],
      "metadata": {
        "colab": {
          "base_uri": "https://localhost:8080/"
        },
        "id": "Jb0Q10LApmEM",
        "outputId": "e69eeb6e-71a5-4768-c76b-4b78711bcd06"
      },
      "execution_count": 62,
      "outputs": [
        {
          "output_type": "execute_result",
          "data": {
            "text/plain": [
              "array([0, 1, 2, ..., 8, 9, 8])"
            ]
          },
          "metadata": {},
          "execution_count": 62
        }
      ]
    },
    {
      "cell_type": "code",
      "source": [
        "from sklearn.model_selection import train_test_split"
      ],
      "metadata": {
        "id": "nZwaXA6wpmA2"
      },
      "execution_count": 63,
      "outputs": []
    },
    {
      "cell_type": "code",
      "source": [
        "X_train,X_test,y_train,y_test = train_test_split(X, y, test_size = 0.25, random_state = 1)"
      ],
      "metadata": {
        "id": "8OT2t4z2pl-B"
      },
      "execution_count": 64,
      "outputs": []
    },
    {
      "cell_type": "code",
      "source": [
        "X_train.shape"
      ],
      "metadata": {
        "colab": {
          "base_uri": "https://localhost:8080/"
        },
        "id": "5hadqGwDqKZS",
        "outputId": "c982d37f-21cf-4ea8-b343-9d9b7a4fc44f"
      },
      "execution_count": 65,
      "outputs": [
        {
          "output_type": "execute_result",
          "data": {
            "text/plain": [
              "(1347, 64)"
            ]
          },
          "metadata": {},
          "execution_count": 65
        }
      ]
    },
    {
      "cell_type": "code",
      "source": [
        "X_test.shape"
      ],
      "metadata": {
        "colab": {
          "base_uri": "https://localhost:8080/"
        },
        "id": "i9nhErB8qKV6",
        "outputId": "103c819c-6481-411f-a4fb-3f2a108070b5"
      },
      "execution_count": 66,
      "outputs": [
        {
          "output_type": "execute_result",
          "data": {
            "text/plain": [
              "(450, 64)"
            ]
          },
          "metadata": {},
          "execution_count": 66
        }
      ]
    },
    {
      "cell_type": "code",
      "source": [
        "from sklearn import svm"
      ],
      "metadata": {
        "id": "snrPvhqjqKTT"
      },
      "execution_count": 31,
      "outputs": []
    },
    {
      "cell_type": "code",
      "source": [
        "model = svm.SVC(kernel='linear')"
      ],
      "metadata": {
        "id": "aEpBH4M7qYKG"
      },
      "execution_count": 67,
      "outputs": []
    },
    {
      "cell_type": "code",
      "source": [
        "model.fit(X_train, y_train)"
      ],
      "metadata": {
        "colab": {
          "base_uri": "https://localhost:8080/",
          "height": 74
        },
        "id": "M5DtKclkqYGj",
        "outputId": "8e58fb67-5a5b-4575-f8a2-eca38955150a"
      },
      "execution_count": 68,
      "outputs": [
        {
          "output_type": "execute_result",
          "data": {
            "text/plain": [
              "SVC(kernel='linear')"
            ],
            "text/html": [
              "<style>#sk-container-id-2 {color: black;background-color: white;}#sk-container-id-2 pre{padding: 0;}#sk-container-id-2 div.sk-toggleable {background-color: white;}#sk-container-id-2 label.sk-toggleable__label {cursor: pointer;display: block;width: 100%;margin-bottom: 0;padding: 0.3em;box-sizing: border-box;text-align: center;}#sk-container-id-2 label.sk-toggleable__label-arrow:before {content: \"▸\";float: left;margin-right: 0.25em;color: #696969;}#sk-container-id-2 label.sk-toggleable__label-arrow:hover:before {color: black;}#sk-container-id-2 div.sk-estimator:hover label.sk-toggleable__label-arrow:before {color: black;}#sk-container-id-2 div.sk-toggleable__content {max-height: 0;max-width: 0;overflow: hidden;text-align: left;background-color: #f0f8ff;}#sk-container-id-2 div.sk-toggleable__content pre {margin: 0.2em;color: black;border-radius: 0.25em;background-color: #f0f8ff;}#sk-container-id-2 input.sk-toggleable__control:checked~div.sk-toggleable__content {max-height: 200px;max-width: 100%;overflow: auto;}#sk-container-id-2 input.sk-toggleable__control:checked~label.sk-toggleable__label-arrow:before {content: \"▾\";}#sk-container-id-2 div.sk-estimator input.sk-toggleable__control:checked~label.sk-toggleable__label {background-color: #d4ebff;}#sk-container-id-2 div.sk-label input.sk-toggleable__control:checked~label.sk-toggleable__label {background-color: #d4ebff;}#sk-container-id-2 input.sk-hidden--visually {border: 0;clip: rect(1px 1px 1px 1px);clip: rect(1px, 1px, 1px, 1px);height: 1px;margin: -1px;overflow: hidden;padding: 0;position: absolute;width: 1px;}#sk-container-id-2 div.sk-estimator {font-family: monospace;background-color: #f0f8ff;border: 1px dotted black;border-radius: 0.25em;box-sizing: border-box;margin-bottom: 0.5em;}#sk-container-id-2 div.sk-estimator:hover {background-color: #d4ebff;}#sk-container-id-2 div.sk-parallel-item::after {content: \"\";width: 100%;border-bottom: 1px solid gray;flex-grow: 1;}#sk-container-id-2 div.sk-label:hover label.sk-toggleable__label {background-color: #d4ebff;}#sk-container-id-2 div.sk-serial::before {content: \"\";position: absolute;border-left: 1px solid gray;box-sizing: border-box;top: 0;bottom: 0;left: 50%;z-index: 0;}#sk-container-id-2 div.sk-serial {display: flex;flex-direction: column;align-items: center;background-color: white;padding-right: 0.2em;padding-left: 0.2em;position: relative;}#sk-container-id-2 div.sk-item {position: relative;z-index: 1;}#sk-container-id-2 div.sk-parallel {display: flex;align-items: stretch;justify-content: center;background-color: white;position: relative;}#sk-container-id-2 div.sk-item::before, #sk-container-id-2 div.sk-parallel-item::before {content: \"\";position: absolute;border-left: 1px solid gray;box-sizing: border-box;top: 0;bottom: 0;left: 50%;z-index: -1;}#sk-container-id-2 div.sk-parallel-item {display: flex;flex-direction: column;z-index: 1;position: relative;background-color: white;}#sk-container-id-2 div.sk-parallel-item:first-child::after {align-self: flex-end;width: 50%;}#sk-container-id-2 div.sk-parallel-item:last-child::after {align-self: flex-start;width: 50%;}#sk-container-id-2 div.sk-parallel-item:only-child::after {width: 0;}#sk-container-id-2 div.sk-dashed-wrapped {border: 1px dashed gray;margin: 0 0.4em 0.5em 0.4em;box-sizing: border-box;padding-bottom: 0.4em;background-color: white;}#sk-container-id-2 div.sk-label label {font-family: monospace;font-weight: bold;display: inline-block;line-height: 1.2em;}#sk-container-id-2 div.sk-label-container {text-align: center;}#sk-container-id-2 div.sk-container {/* jupyter's `normalize.less` sets `[hidden] { display: none; }` but bootstrap.min.css set `[hidden] { display: none !important; }` so we also need the `!important` here to be able to override the default hidden behavior on the sphinx rendered scikit-learn.org. See: https://github.com/scikit-learn/scikit-learn/issues/21755 */display: inline-block !important;position: relative;}#sk-container-id-2 div.sk-text-repr-fallback {display: none;}</style><div id=\"sk-container-id-2\" class=\"sk-top-container\"><div class=\"sk-text-repr-fallback\"><pre>SVC(kernel=&#x27;linear&#x27;)</pre><b>In a Jupyter environment, please rerun this cell to show the HTML representation or trust the notebook. <br />On GitHub, the HTML representation is unable to render, please try loading this page with nbviewer.org.</b></div><div class=\"sk-container\" hidden><div class=\"sk-item\"><div class=\"sk-estimator sk-toggleable\"><input class=\"sk-toggleable__control sk-hidden--visually\" id=\"sk-estimator-id-2\" type=\"checkbox\" checked><label for=\"sk-estimator-id-2\" class=\"sk-toggleable__label sk-toggleable__label-arrow\">SVC</label><div class=\"sk-toggleable__content\"><pre>SVC(kernel=&#x27;linear&#x27;)</pre></div></div></div></div></div>"
            ]
          },
          "metadata": {},
          "execution_count": 68
        }
      ]
    },
    {
      "cell_type": "code",
      "source": [
        "n = 6"
      ],
      "metadata": {
        "id": "YQ8PxnEMqYEF"
      },
      "execution_count": 69,
      "outputs": []
    },
    {
      "cell_type": "code",
      "source": [
        "result = model.predict(dataset.images[n].reshape((1,-1)))\n",
        "plt.imshow(dataset.images[n], cmap=plt.cm.gray_r, interpolation='nearest')\n",
        "print(result)\n",
        "print(\"\\n\")\n",
        "plt.axis('off')\n",
        "plt.title('%i' %result)\n",
        "plt.show()"
      ],
      "metadata": {
        "colab": {
          "base_uri": "https://localhost:8080/",
          "height": 480
        },
        "id": "onTCgxhqqYBw",
        "outputId": "b2b9e382-a3b6-41c7-8579-4d3c34a1efcf"
      },
      "execution_count": 70,
      "outputs": [
        {
          "output_type": "stream",
          "name": "stdout",
          "text": [
            "[6]\n",
            "\n",
            "\n"
          ]
        },
        {
          "output_type": "display_data",
          "data": {
            "text/plain": [
              "<Figure size 640x480 with 1 Axes>"
            ],
            "image/png": "[encoded data removed]"
          },
          "metadata": {}
        }
      ]
    },
    {
      "cell_type": "code",
      "source": [
        "y_pred = model.predict(X_test)\n",
        "print(pavan.concatenate((y_pred.reshape(len(y_pred),1), y_test.reshape(len(y_test),1)),1))"
      ],
      "metadata": {
        "colab": {
          "base_uri": "https://localhost:8080/"
        },
        "id": "AOEEPgRWrY-q",
        "outputId": "8cea2140-9b1b-4629-9f61-486917950302"
      },
      "execution_count": 72,
      "outputs": [
        {
          "output_type": "stream",
          "name": "stdout",
          "text": [
            "[[1 1]\n",
            " [5 5]\n",
            " [0 0]\n",
            " [7 7]\n",
            " [1 1]\n",
            " [0 0]\n",
            " [6 6]\n",
            " [1 1]\n",
            " [5 5]\n",
            " [4 4]\n",
            " [9 9]\n",
            " [2 2]\n",
            " [7 7]\n",
            " [8 8]\n",
            " [4 4]\n",
            " [6 6]\n",
            " [9 9]\n",
            " [3 3]\n",
            " [7 7]\n",
            " [4 4]\n",
            " [7 7]\n",
            " [1 1]\n",
            " [8 8]\n",
            " [6 6]\n",
            " [0 0]\n",
            " [9 9]\n",
            " [6 6]\n",
            " [1 1]\n",
            " [3 3]\n",
            " [7 7]\n",
            " [5 5]\n",
            " [9 9]\n",
            " [8 8]\n",
            " [3 3]\n",
            " [2 2]\n",
            " [8 8]\n",
            " [8 8]\n",
            " [1 1]\n",
            " [1 1]\n",
            " [0 0]\n",
            " [7 7]\n",
            " [9 9]\n",
            " [0 0]\n",
            " [0 0]\n",
            " [8 8]\n",
            " [7 7]\n",
            " [2 2]\n",
            " [7 7]\n",
            " [4 4]\n",
            " [3 3]\n",
            " [4 4]\n",
            " [3 3]\n",
            " [4 4]\n",
            " [0 0]\n",
            " [4 4]\n",
            " [7 7]\n",
            " [0 0]\n",
            " [5 5]\n",
            " [5 5]\n",
            " [5 5]\n",
            " [2 2]\n",
            " [1 1]\n",
            " [7 7]\n",
            " [0 0]\n",
            " [5 5]\n",
            " [1 1]\n",
            " [8 8]\n",
            " [3 3]\n",
            " [3 3]\n",
            " [4 4]\n",
            " [0 0]\n",
            " [3 3]\n",
            " [7 7]\n",
            " [4 4]\n",
            " [3 3]\n",
            " [4 4]\n",
            " [2 2]\n",
            " [9 9]\n",
            " [7 7]\n",
            " [3 3]\n",
            " [2 2]\n",
            " [5 5]\n",
            " [3 3]\n",
            " [4 4]\n",
            " [1 1]\n",
            " [5 5]\n",
            " [5 5]\n",
            " [2 2]\n",
            " [5 5]\n",
            " [2 2]\n",
            " [2 2]\n",
            " [2 2]\n",
            " [2 2]\n",
            " [7 7]\n",
            " [0 0]\n",
            " [8 8]\n",
            " [1 1]\n",
            " [7 7]\n",
            " [4 4]\n",
            " [2 2]\n",
            " [3 3]\n",
            " [8 8]\n",
            " [2 2]\n",
            " [3 3]\n",
            " [3 3]\n",
            " [0 0]\n",
            " [2 2]\n",
            " [9 9]\n",
            " [5 9]\n",
            " [2 2]\n",
            " [3 3]\n",
            " [2 2]\n",
            " [8 8]\n",
            " [1 1]\n",
            " [1 1]\n",
            " [9 9]\n",
            " [1 1]\n",
            " [2 2]\n",
            " [0 0]\n",
            " [4 4]\n",
            " [8 8]\n",
            " [5 5]\n",
            " [4 4]\n",
            " [4 4]\n",
            " [7 7]\n",
            " [6 6]\n",
            " [7 7]\n",
            " [6 6]\n",
            " [6 6]\n",
            " [1 1]\n",
            " [7 7]\n",
            " [5 5]\n",
            " [6 6]\n",
            " [3 3]\n",
            " [8 8]\n",
            " [3 3]\n",
            " [7 7]\n",
            " [1 1]\n",
            " [8 8]\n",
            " [5 5]\n",
            " [3 3]\n",
            " [4 4]\n",
            " [7 7]\n",
            " [8 8]\n",
            " [5 5]\n",
            " [0 0]\n",
            " [6 6]\n",
            " [0 0]\n",
            " [6 6]\n",
            " [3 3]\n",
            " [7 7]\n",
            " [6 6]\n",
            " [5 5]\n",
            " [6 6]\n",
            " [2 2]\n",
            " [2 2]\n",
            " [2 2]\n",
            " [3 3]\n",
            " [0 0]\n",
            " [7 7]\n",
            " [6 6]\n",
            " [5 5]\n",
            " [6 6]\n",
            " [4 4]\n",
            " [1 1]\n",
            " [0 0]\n",
            " [6 6]\n",
            " [0 0]\n",
            " [6 6]\n",
            " [4 4]\n",
            " [0 0]\n",
            " [9 9]\n",
            " [3 3]\n",
            " [5 8]\n",
            " [1 1]\n",
            " [2 2]\n",
            " [3 3]\n",
            " [1 1]\n",
            " [9 9]\n",
            " [0 0]\n",
            " [7 7]\n",
            " [6 6]\n",
            " [2 2]\n",
            " [9 9]\n",
            " [3 3]\n",
            " [5 5]\n",
            " [3 3]\n",
            " [4 4]\n",
            " [6 6]\n",
            " [3 3]\n",
            " [3 3]\n",
            " [7 7]\n",
            " [4 4]\n",
            " [9 9]\n",
            " [2 2]\n",
            " [7 7]\n",
            " [6 6]\n",
            " [1 1]\n",
            " [6 6]\n",
            " [8 8]\n",
            " [4 4]\n",
            " [0 0]\n",
            " [3 3]\n",
            " [1 1]\n",
            " [0 0]\n",
            " [9 9]\n",
            " [9 9]\n",
            " [9 9]\n",
            " [0 0]\n",
            " [1 1]\n",
            " [8 8]\n",
            " [6 6]\n",
            " [8 8]\n",
            " [0 0]\n",
            " [9 9]\n",
            " [5 5]\n",
            " [9 9]\n",
            " [8 8]\n",
            " [2 2]\n",
            " [3 3]\n",
            " [5 5]\n",
            " [3 3]\n",
            " [0 0]\n",
            " [8 8]\n",
            " [7 7]\n",
            " [4 4]\n",
            " [0 0]\n",
            " [3 3]\n",
            " [3 3]\n",
            " [3 3]\n",
            " [6 6]\n",
            " [3 3]\n",
            " [3 3]\n",
            " [2 2]\n",
            " [9 9]\n",
            " [1 1]\n",
            " [6 6]\n",
            " [9 9]\n",
            " [0 0]\n",
            " [4 4]\n",
            " [2 2]\n",
            " [2 2]\n",
            " [7 7]\n",
            " [9 9]\n",
            " [1 1]\n",
            " [6 6]\n",
            " [7 7]\n",
            " [6 6]\n",
            " [3 3]\n",
            " [9 7]\n",
            " [1 1]\n",
            " [8 9]\n",
            " [3 3]\n",
            " [4 4]\n",
            " [0 0]\n",
            " [6 6]\n",
            " [4 4]\n",
            " [8 8]\n",
            " [5 5]\n",
            " [3 3]\n",
            " [6 6]\n",
            " [3 3]\n",
            " [1 1]\n",
            " [4 4]\n",
            " [0 0]\n",
            " [4 4]\n",
            " [4 4]\n",
            " [8 8]\n",
            " [7 7]\n",
            " [9 9]\n",
            " [1 1]\n",
            " [5 5]\n",
            " [2 2]\n",
            " [7 7]\n",
            " [0 0]\n",
            " [9 9]\n",
            " [0 0]\n",
            " [4 4]\n",
            " [4 4]\n",
            " [0 0]\n",
            " [1 1]\n",
            " [0 0]\n",
            " [6 6]\n",
            " [4 4]\n",
            " [2 2]\n",
            " [8 8]\n",
            " [5 5]\n",
            " [0 0]\n",
            " [2 2]\n",
            " [6 6]\n",
            " [0 0]\n",
            " [1 1]\n",
            " [8 8]\n",
            " [2 2]\n",
            " [0 0]\n",
            " [9 9]\n",
            " [5 5]\n",
            " [6 6]\n",
            " [2 2]\n",
            " [0 0]\n",
            " [5 5]\n",
            " [0 0]\n",
            " [9 9]\n",
            " [1 1]\n",
            " [4 4]\n",
            " [7 7]\n",
            " [1 1]\n",
            " [7 7]\n",
            " [0 0]\n",
            " [6 6]\n",
            " [6 6]\n",
            " [8 8]\n",
            " [0 0]\n",
            " [2 2]\n",
            " [2 2]\n",
            " [6 6]\n",
            " [9 9]\n",
            " [9 9]\n",
            " [7 7]\n",
            " [5 5]\n",
            " [1 1]\n",
            " [7 7]\n",
            " [6 6]\n",
            " [4 4]\n",
            " [6 6]\n",
            " [1 1]\n",
            " [9 9]\n",
            " [4 4]\n",
            " [7 7]\n",
            " [1 1]\n",
            " [3 3]\n",
            " [7 7]\n",
            " [8 8]\n",
            " [1 1]\n",
            " [6 6]\n",
            " [9 9]\n",
            " [8 8]\n",
            " [3 3]\n",
            " [2 2]\n",
            " [4 4]\n",
            " [8 8]\n",
            " [7 7]\n",
            " [5 5]\n",
            " [5 5]\n",
            " [6 6]\n",
            " [9 9]\n",
            " [9 9]\n",
            " [8 8]\n",
            " [5 5]\n",
            " [0 0]\n",
            " [0 0]\n",
            " [4 4]\n",
            " [9 9]\n",
            " [3 3]\n",
            " [0 0]\n",
            " [4 4]\n",
            " [9 9]\n",
            " [4 4]\n",
            " [2 2]\n",
            " [5 5]\n",
            " [4 4]\n",
            " [9 9]\n",
            " [6 6]\n",
            " [4 4]\n",
            " [2 2]\n",
            " [6 6]\n",
            " [0 0]\n",
            " [0 0]\n",
            " [5 5]\n",
            " [6 6]\n",
            " [7 7]\n",
            " [1 1]\n",
            " [9 9]\n",
            " [2 2]\n",
            " [5 5]\n",
            " [1 1]\n",
            " [5 5]\n",
            " [9 9]\n",
            " [8 8]\n",
            " [7 7]\n",
            " [7 7]\n",
            " [0 0]\n",
            " [6 6]\n",
            " [9 9]\n",
            " [3 3]\n",
            " [1 1]\n",
            " [3 9]\n",
            " [3 3]\n",
            " [9 9]\n",
            " [8 8]\n",
            " [7 7]\n",
            " [0 0]\n",
            " [2 2]\n",
            " [3 3]\n",
            " [9 5]\n",
            " [9 9]\n",
            " [2 2]\n",
            " [8 8]\n",
            " [1 1]\n",
            " [9 9]\n",
            " [8 3]\n",
            " [3 3]\n",
            " [0 0]\n",
            " [0 0]\n",
            " [7 7]\n",
            " [3 3]\n",
            " [8 8]\n",
            " [7 7]\n",
            " [9 9]\n",
            " [9 9]\n",
            " [7 7]\n",
            " [1 1]\n",
            " [0 0]\n",
            " [4 4]\n",
            " [5 5]\n",
            " [4 4]\n",
            " [1 1]\n",
            " [7 7]\n",
            " [3 3]\n",
            " [6 6]\n",
            " [5 5]\n",
            " [4 4]\n",
            " [9 9]\n",
            " [0 0]\n",
            " [5 5]\n",
            " [9 9]\n",
            " [1 1]\n",
            " [4 4]\n",
            " [5 5]\n",
            " [0 0]\n",
            " [4 4]\n",
            " [3 3]\n",
            " [4 4]\n",
            " [2 2]\n",
            " [3 3]\n",
            " [9 9]\n",
            " [0 0]\n",
            " [8 8]\n",
            " [7 7]\n",
            " [8 8]\n",
            " [6 6]\n",
            " [9 9]\n",
            " [4 4]\n",
            " [5 5]\n",
            " [7 7]\n",
            " [8 8]\n",
            " [3 3]\n",
            " [7 7]\n",
            " [8 8]\n",
            " [3 3]]\n"
          ]
        }
      ]
    },
    {
      "cell_type": "code",
      "source": [
        "from sklearn.metrics import accuracy_score\n",
        "print(\"Accuracy of the Model: {0}%\".format(accuracy_score(y_test, y_pred)*100))"
      ],
      "metadata": {
        "colab": {
          "base_uri": "https://localhost:8080/"
        },
        "id": "K_Su5_j9rY7P",
        "outputId": "e9b739a4-fe13-4908-ea7e-532ebbcf0596"
      },
      "execution_count": 73,
      "outputs": [
        {
          "output_type": "stream",
          "name": "stdout",
          "text": [
            "Accuracy of the Model: 98.44444444444444%\n"
          ]
        }
      ]
    },
    {
      "cell_type": "code",
      "source": [
        "from sklearn import svm\n",
        "model1 = svm.SVC(kernel='poly')\n",
        "model2 = svm.SVC(kernel='rbf')\n",
        "model3 = svm.SVC(gamma=0.001)\n",
        "model4 = svm.SVC(gamma=0.001,C=0.1)"
      ],
      "metadata": {
        "id": "EGGymUXsrY4a"
      },
      "execution_count": 81,
      "outputs": []
    },
    {
      "cell_type": "code",
      "source": [
        "model1.fit(X_train,y_train)\n",
        "model2.fit(X_train,y_train)\n",
        "model3.fit(X_train,y_train)\n",
        "model4.fit(X_train,y_train)"
      ],
      "metadata": {
        "colab": {
          "base_uri": "https://localhost:8080/",
          "height": 74
        },
        "id": "W6OmVh3XsGRU",
        "outputId": "6d318cbd-5155-4300-8a9e-0cebb9beacac"
      },
      "execution_count": 82,
      "outputs": [
        {
          "output_type": "execute_result",
          "data": {
            "text/plain": [
              "SVC(C=0.1, gamma=0.001)"
            ],
            "text/html": [
              "<style>#sk-container-id-5 {color: black;background-color: white;}#sk-container-id-5 pre{padding: 0;}#sk-container-id-5 div.sk-toggleable {background-color: white;}#sk-container-id-5 label.sk-toggleable__label {cursor: pointer;display: block;width: 100%;margin-bottom: 0;padding: 0.3em;box-sizing: border-box;text-align: center;}#sk-container-id-5 label.sk-toggleable__label-arrow:before {content: \"▸\";float: left;margin-right: 0.25em;color: #696969;}#sk-container-id-5 label.sk-toggleable__label-arrow:hover:before {color: black;}#sk-container-id-5 div.sk-estimator:hover label.sk-toggleable__label-arrow:before {color: black;}#sk-container-id-5 div.sk-toggleable__content {max-height: 0;max-width: 0;overflow: hidden;text-align: left;background-color: #f0f8ff;}#sk-container-id-5 div.sk-toggleable__content pre {margin: 0.2em;color: black;border-radius: 0.25em;background-color: #f0f8ff;}#sk-container-id-5 input.sk-toggleable__control:checked~div.sk-toggleable__content {max-height: 200px;max-width: 100%;overflow: auto;}#sk-container-id-5 input.sk-toggleable__control:checked~label.sk-toggleable__label-arrow:before {content: \"▾\";}#sk-container-id-5 div.sk-estimator input.sk-toggleable__control:checked~label.sk-toggleable__label {background-color: #d4ebff;}#sk-container-id-5 div.sk-label input.sk-toggleable__control:checked~label.sk-toggleable__label {background-color: #d4ebff;}#sk-container-id-5 input.sk-hidden--visually {border: 0;clip: rect(1px 1px 1px 1px);clip: rect(1px, 1px, 1px, 1px);height: 1px;margin: -1px;overflow: hidden;padding: 0;position: absolute;width: 1px;}#sk-container-id-5 div.sk-estimator {font-family: monospace;background-color: #f0f8ff;border: 1px dotted black;border-radius: 0.25em;box-sizing: border-box;margin-bottom: 0.5em;}#sk-container-id-5 div.sk-estimator:hover {background-color: #d4ebff;}#sk-container-id-5 div.sk-parallel-item::after {content: \"\";width: 100%;border-bottom: 1px solid gray;flex-grow: 1;}#sk-container-id-5 div.sk-label:hover label.sk-toggleable__label {background-color: #d4ebff;}#sk-container-id-5 div.sk-serial::before {content: \"\";position: absolute;border-left: 1px solid gray;box-sizing: border-box;top: 0;bottom: 0;left: 50%;z-index: 0;}#sk-container-id-5 div.sk-serial {display: flex;flex-direction: column;align-items: center;background-color: white;padding-right: 0.2em;padding-left: 0.2em;position: relative;}#sk-container-id-5 div.sk-item {position: relative;z-index: 1;}#sk-container-id-5 div.sk-parallel {display: flex;align-items: stretch;justify-content: center;background-color: white;position: relative;}#sk-container-id-5 div.sk-item::before, #sk-container-id-5 div.sk-parallel-item::before {content: \"\";position: absolute;border-left: 1px solid gray;box-sizing: border-box;top: 0;bottom: 0;left: 50%;z-index: -1;}#sk-container-id-5 div.sk-parallel-item {display: flex;flex-direction: column;z-index: 1;position: relative;background-color: white;}#sk-container-id-5 div.sk-parallel-item:first-child::after {align-self: flex-end;width: 50%;}#sk-container-id-5 div.sk-parallel-item:last-child::after {align-self: flex-start;width: 50%;}#sk-container-id-5 div.sk-parallel-item:only-child::after {width: 0;}#sk-container-id-5 div.sk-dashed-wrapped {border: 1px dashed gray;margin: 0 0.4em 0.5em 0.4em;box-sizing: border-box;padding-bottom: 0.4em;background-color: white;}#sk-container-id-5 div.sk-label label {font-family: monospace;font-weight: bold;display: inline-block;line-height: 1.2em;}#sk-container-id-5 div.sk-label-container {text-align: center;}#sk-container-id-5 div.sk-container {/* jupyter's `normalize.less` sets `[hidden] { display: none; }` but bootstrap.min.css set `[hidden] { display: none !important; }` so we also need the `!important` here to be able to override the default hidden behavior on the sphinx rendered scikit-learn.org. See: https://github.com/scikit-learn/scikit-learn/issues/21755 */display: inline-block !important;position: relative;}#sk-container-id-5 div.sk-text-repr-fallback {display: none;}</style><div id=\"sk-container-id-5\" class=\"sk-top-container\"><div class=\"sk-text-repr-fallback\"><pre>SVC(C=0.1, gamma=0.001)</pre><b>In a Jupyter environment, please rerun this cell to show the HTML representation or trust the notebook. <br />On GitHub, the HTML representation is unable to render, please try loading this page with nbviewer.org.</b></div><div class=\"sk-container\" hidden><div class=\"sk-item\"><div class=\"sk-estimator sk-toggleable\"><input class=\"sk-toggleable__control sk-hidden--visually\" id=\"sk-estimator-id-5\" type=\"checkbox\" checked><label for=\"sk-estimator-id-5\" class=\"sk-toggleable__label sk-toggleable__label-arrow\">SVC</label><div class=\"sk-toggleable__content\"><pre>SVC(C=0.1, gamma=0.001)</pre></div></div></div></div></div>"
            ]
          },
          "metadata": {},
          "execution_count": 82
        }
      ]
    },
    {
      "cell_type": "code",
      "source": [
        "y_predModel1 = model1.predict(X_test)\n",
        "y_predModel2 = model2.predict(X_test)\n",
        "y_predModel3 = model3.predict(X_test)\n",
        "y_predModel4 = model4.predict(X_test)\n",
        "\n",
        "print(\"Accuracy of the Model 1: {0}%\".format(accuracy_score(y_test, y_predModel1)*100))\n",
        "print(\"Accuracy of the Model 2: {0}%\".format(accuracy_score(y_test, y_predModel2)*100))\n",
        "print(\"Accuracy of the Model 3: {0}%\".format(accuracy_score(y_test, y_predModel3)*100))\n",
        "print(\"Accuracy of the Model 4: {0}%\".format(accuracy_score(y_test, y_predModel4)*100))"
      ],
      "metadata": {
        "colab": {
          "base_uri": "https://localhost:8080/"
        },
        "id": "VAT8DV6zsGLf",
        "outputId": "bdc17b44-799b-4bcf-a1b0-40bb8f30fa03"
      },
      "execution_count": 83,
      "outputs": [
        {
          "output_type": "stream",
          "name": "stdout",
          "text": [
            "Accuracy of the Model 1: 98.66666666666667%\n",
            "Accuracy of the Model 2: 98.88888888888889%\n",
            "Accuracy of the Model 3: 99.11111111111111%\n",
            "Accuracy of the Model 4: 96.44444444444444%\n"
          ]
        }
      ]
    }
  ]
}